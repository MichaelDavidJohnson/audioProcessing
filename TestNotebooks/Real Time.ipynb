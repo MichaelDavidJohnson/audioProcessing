{
 "cells": [
  {
   "cell_type": "code",
   "execution_count": 2,
   "metadata": {},
   "outputs": [],
   "source": [
    "import pyaudio\n",
    "import struct\n",
    "import numpy as np\n",
    "import matplotlib.pyplot as plt\n",
    "import time\n",
    "%matplotlib tk\n",
    "from pycaw.pycaw import AudioUtilities,IAudioEndpointVolume\n",
    "from ctypes import cast,POINTER\n",
    "import comtypes\n",
    "import scipy.io.wavfile as wav\n",
    "import scipy.signal as sig\n",
    "import math"
   ]
  },
  {
   "cell_type": "code",
   "execution_count": 3,
   "metadata": {},
   "outputs": [],
   "source": [
    "%matplotlib tk"
   ]
  },
  {
   "cell_type": "code",
   "execution_count": 12,
   "metadata": {},
   "outputs": [],
   "source": [
    "audioSample = 1024*4\n",
    "Format = pyaudio.paInt16\n",
    "channels = 2\n",
    "rate = 44100\n",
    "NPERSEG = 512\n",
    "INT16_MAX = 32767\n",
    "frameDelay = 0.04"
   ]
  },
  {
   "cell_type": "code",
   "execution_count": null,
   "metadata": {},
   "outputs": [],
   "source": []
  },
  {
   "cell_type": "code",
   "execution_count": 13,
   "metadata": {},
   "outputs": [
    {
     "name": "stderr",
     "output_type": "stream",
     "text": [
      "C:\\Users\\Michael\\Anaconda3\\lib\\site-packages\\ipykernel_launcher.py:75: RuntimeWarning: divide by zero encountered in log10\n"
     ]
    },
    {
     "name": "stdout",
     "output_type": "stream",
     "text": [
      "FPS:  10.378202405864187\n"
     ]
    }
   ],
   "source": [
    "def initialiseStream():\n",
    "    p = pyaudio.PyAudio()\n",
    "    stream = p.open(\n",
    "                format=Format,\n",
    "                channels=channels,\n",
    "                rate=rate,\n",
    "                input=True,\n",
    "                frames_per_buffer=audioSample,\n",
    "                input_device_index=2)\n",
    "    return stream\n",
    "\n",
    "def initialiseFigures(portraitOrLandscape = 'p'):\n",
    "    if portraitOrLandscape == 'p' or portraitOrLandscape == 'P':\n",
    "        fig,(ax1,ax2,ax3) = plt.subplots(3, 1)\n",
    "    else:\n",
    "        fig,(ax1,ax2,ax3) = plt.subplots(1,3)\n",
    "\n",
    "    ax1.set_xlim(0, audioSample)\n",
    "    ax1.set_ylim(-0.15,0.15)\n",
    "    ax2.set_ylim([0,150])\n",
    "    ax1.axis('off')\n",
    "    ax2.axis('off')\n",
    "    ax3.axis('off')\n",
    "    ax3.set_ylim([0,5000])\n",
    "    return (fig,ax1,ax2,ax3)\n",
    "\n",
    "def getData(stream):\n",
    "    data = np.reshape(\n",
    "                      np.frombuffer(stream.read(audioSample),dtype=np.int16),\n",
    "                      (audioSample,channels)\n",
    "    )\n",
    "    return data\n",
    "\n",
    "def getTransformedData(dataChannel):\n",
    "    ex = np.fft.rfft(dataChannel)\n",
    "    freqs = np.fft.fftfreq(ex.size)\n",
    "    mag = np.abs(ex)\n",
    "    return freqs,mag\n",
    "\n",
    "def canvasReset():\n",
    "    fig.canvas.draw()\n",
    "    fig.canvas.flush_events()\n",
    "\n",
    "\n",
    "fig,ax1,ax2,ax3 = initialiseFigures('p')\n",
    "x = np.arange(0,2*audioSample,2)\n",
    "\n",
    "line, = ax1.plot(x,np.random.rand(audioSample))\n",
    "line2, = ax1.plot(x,np.random.rand(audioSample), color='orange')\n",
    "\n",
    "stream = initialiseStream()\n",
    "dayta = getData(stream)\n",
    "f,t,Sxx = sig.spectrogram(dayta[:,0], fs=rate, window=\"hann\",\n",
    "                              nperseg=NPERSEG)\n",
    "\n",
    "y = ax3.pcolormesh(t, f, 10*np.log10(Sxx), vmin=-20, vmax=60)\n",
    "\n",
    "freqs,mag = getTransformedData(dayta[:,0])\n",
    "\n",
    "line3, = ax2.plot(np.fft.fftshift(freqs),10*np.log10(mag))\n",
    "\n",
    "plt.ion()\n",
    "plt.show()\n",
    "\n",
    "counter = 0 \n",
    "startTime = time.time()\n",
    "while True:\n",
    "    \n",
    "    time.sleep(frameDelay)\n",
    "    dayta = getData(stream)\n",
    "    freqs,mag = getTransformedData(dayta[:,0])\n",
    "    f,t,Sxx = sig.spectrogram(dayta[:,0], fs=rate, window=\"hann\",\n",
    "                              nperseg=NPERSEG)\n",
    "    ax1.set_ylim(-np.max(dayta)/INT16_MAX,np.max(dayta)/INT16_MAX)\n",
    "    ax2.set_ylim(0,np.max(10*np.log10(np.abs(mag))))\n",
    "    line.set_ydata(dayta[:,0]/INT16_MAX)\n",
    "    line2.set_ydata(dayta[:,1]/INT16_MAX)\n",
    "    line3.set_data([np.fft.fftshift(freqs)],[10*np.log10(np.maximum(np.abs(mag), 1e-10))])\n",
    "    y.set_array(10*np.log10(Sxx).ravel())\n",
    "    canvasReset()\n",
    "    \n",
    "    #FPS Counter.\n",
    "    counter += 1\n",
    "    if (time.time() - startTime) > 10:\n",
    "        print('FPS: ',counter/(time.time()-startTime) )\n",
    "        break\n",
    "\n"
   ]
  },
  {
   "cell_type": "code",
   "execution_count": null,
   "metadata": {},
   "outputs": [],
   "source": []
  },
  {
   "cell_type": "code",
   "execution_count": null,
   "metadata": {},
   "outputs": [],
   "source": []
  },
  {
   "cell_type": "code",
   "execution_count": null,
   "metadata": {},
   "outputs": [],
   "source": []
  }
 ],
 "metadata": {
  "kernelspec": {
   "display_name": "Python 3",
   "language": "python",
   "name": "python3"
  },
  "language_info": {
   "codemirror_mode": {
    "name": "ipython",
    "version": 3
   },
   "file_extension": ".py",
   "mimetype": "text/x-python",
   "name": "python",
   "nbconvert_exporter": "python",
   "pygments_lexer": "ipython3",
   "version": "3.7.3"
  }
 },
 "nbformat": 4,
 "nbformat_minor": 2
}
