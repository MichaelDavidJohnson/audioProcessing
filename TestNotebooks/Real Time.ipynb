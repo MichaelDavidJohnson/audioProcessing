{
 "cells": [
  {
   "cell_type": "code",
   "execution_count": 7,
   "metadata": {},
   "outputs": [],
   "source": [
    "import pyaudio\n",
    "import struct\n",
    "import numpy as np\n",
    "import matplotlib.pyplot as plt\n",
    "import time\n",
    "%matplotlib tk\n",
    "from pycaw.pycaw import AudioUtilities,IAudioEndpointVolume\n",
    "from ctypes import cast,POINTER\n",
    "import comtypes\n",
    "import scipy.io.wavfile as wav\n",
    "import scipy.signal as sig\n",
    "import math"
   ]
  },
  {
   "cell_type": "code",
   "execution_count": 8,
   "metadata": {},
   "outputs": [],
   "source": [
    "%matplotlib tk"
   ]
  },
  {
   "cell_type": "code",
   "execution_count": 9,
   "metadata": {},
   "outputs": [],
   "source": [
    "audioSample = 1024*4\n",
    "Format = pyaudio.paInt16\n",
    "channels = 2\n",
    "rate = 44100"
   ]
  },
  {
   "cell_type": "code",
   "execution_count": null,
   "metadata": {},
   "outputs": [],
   "source": []
  },
  {
   "cell_type": "code",
   "execution_count": 15,
   "metadata": {},
   "outputs": [
    {
     "ename": "KeyboardInterrupt",
     "evalue": "",
     "output_type": "error",
     "traceback": [
      "\u001b[1;31m---------------------------------------------------------------------------\u001b[0m",
      "\u001b[1;31mKeyboardInterrupt\u001b[0m                         Traceback (most recent call last)",
      "\u001b[1;32m<ipython-input-15-a65aa1326e18>\u001b[0m in \u001b[0;36m<module>\u001b[1;34m\u001b[0m\n\u001b[0;32m     53\u001b[0m     \u001b[0mex\u001b[0m \u001b[1;33m=\u001b[0m \u001b[0mnp\u001b[0m\u001b[1;33m.\u001b[0m\u001b[0mfft\u001b[0m\u001b[1;33m.\u001b[0m\u001b[0mrfft\u001b[0m\u001b[1;33m(\u001b[0m\u001b[0mdayta\u001b[0m\u001b[1;33m[\u001b[0m\u001b[1;33m:\u001b[0m\u001b[1;33m,\u001b[0m\u001b[1;36m0\u001b[0m\u001b[1;33m]\u001b[0m\u001b[1;33m)\u001b[0m\u001b[1;33m\u001b[0m\u001b[1;33m\u001b[0m\u001b[0m\n\u001b[0;32m     54\u001b[0m     \u001b[0mfreqs\u001b[0m \u001b[1;33m=\u001b[0m \u001b[0mnp\u001b[0m\u001b[1;33m.\u001b[0m\u001b[0mfft\u001b[0m\u001b[1;33m.\u001b[0m\u001b[0mfftfreq\u001b[0m\u001b[1;33m(\u001b[0m\u001b[0mex\u001b[0m\u001b[1;33m.\u001b[0m\u001b[0msize\u001b[0m\u001b[1;33m)\u001b[0m\u001b[1;33m\u001b[0m\u001b[1;33m\u001b[0m\u001b[0m\n\u001b[1;32m---> 55\u001b[1;33m     \u001b[0mline3\u001b[0m\u001b[1;33m.\u001b[0m\u001b[0mset_data\u001b[0m\u001b[1;33m(\u001b[0m\u001b[1;33m[\u001b[0m\u001b[0mnp\u001b[0m\u001b[1;33m.\u001b[0m\u001b[0mfft\u001b[0m\u001b[1;33m.\u001b[0m\u001b[0mfftshift\u001b[0m\u001b[1;33m(\u001b[0m\u001b[0mfreqs\u001b[0m\u001b[1;33m)\u001b[0m\u001b[1;33m]\u001b[0m\u001b[1;33m,\u001b[0m\u001b[1;33m[\u001b[0m\u001b[1;36m10\u001b[0m\u001b[1;33m*\u001b[0m\u001b[0mnp\u001b[0m\u001b[1;33m.\u001b[0m\u001b[0mlog10\u001b[0m\u001b[1;33m(\u001b[0m\u001b[0mnp\u001b[0m\u001b[1;33m.\u001b[0m\u001b[0mmaximum\u001b[0m\u001b[1;33m(\u001b[0m\u001b[0mnp\u001b[0m\u001b[1;33m.\u001b[0m\u001b[0mabs\u001b[0m\u001b[1;33m(\u001b[0m\u001b[0mex\u001b[0m\u001b[1;33m)\u001b[0m\u001b[1;33m,\u001b[0m \u001b[1;36m1e-10\u001b[0m\u001b[1;33m)\u001b[0m\u001b[1;33m)\u001b[0m\u001b[1;33m]\u001b[0m\u001b[1;33m)\u001b[0m\u001b[1;33m\u001b[0m\u001b[1;33m\u001b[0m\u001b[0m\n\u001b[0m\u001b[0;32m     56\u001b[0m \u001b[1;33m\u001b[0m\u001b[0m\n\u001b[0;32m     57\u001b[0m     f,t,Sxx = sig.spectrogram(dayta[:,0], fs=rate, window=\"hann\",\n",
      "\u001b[1;31mKeyboardInterrupt\u001b[0m: "
     ]
    }
   ],
   "source": [
    "\n",
    "\n",
    "p = pyaudio.PyAudio()\n",
    "stream = p.open(format=Format,\n",
    "                channels=2,\n",
    "                rate=rate,\n",
    "                input=True,\n",
    "                frames_per_buffer=audioSample,\n",
    "                input_device_index=2)\n",
    "fig,(ax1,ax2,ax3) = plt.subplots(3, 1)\n",
    "x = np.arange(0,2*audioSample, 2)\n",
    "ax1.set_xlim(0, audioSample)\n",
    "ax1.set_ylim(-0.15,0.15)\n",
    "line, = ax1.plot(x,np.random.rand(audioSample))\n",
    "line2, = ax1.plot(x,np.random.rand(audioSample), color='orange')\n",
    "\n",
    "\n",
    "data = stream.read(audioSample)\n",
    "dayta = np.reshape(np.frombuffer(data, dtype=np.int16), (audioSample, 2))\n",
    "NPERSEG = 512\n",
    "f,t,Sxx = sig.spectrogram(dayta[:,0], fs=rate, window=\"hann\",\n",
    "                              nperseg=NPERSEG)\n",
    "ax3.set_ylim([0,5000])\n",
    "y = ax3.pcolormesh(t, f, 10*np.log10(Sxx), vmin=-20, vmax=60)\n",
    "\n",
    "\n",
    "ex = np.fft.rfft(dayta[:,0])\n",
    "freqs = np.fft.fftfreq(ex.size)\n",
    "mag = np.abs(ex)\n",
    "\n",
    "\n",
    "line3, = ax2.plot(np.fft.fftshift(freqs),10*np.log10(mag))\n",
    "ax2.set_ylim([0,150])\n",
    "ax1.axis('off')\n",
    "ax2.axis('off')\n",
    "ax3.axis('off')\n",
    "ax1.set_facecolor('k')\n",
    "ax2.set_facecolor('k')\n",
    "ax3.set_facecolor('k')\n",
    "\n",
    "plt.ion()\n",
    "plt.show()\n",
    "\n",
    "INT16_MAX = 32767\n",
    "\n",
    "while True:\n",
    "    time.sleep(0.04)\n",
    "    data = stream.read(audioSample)\n",
    "    dayta = np.reshape(np.frombuffer(data, dtype=np.int16), (audioSample, 2))\n",
    "    \n",
    "    ax1.set_ylim(-np.max(dayta)/INT16_MAX,np.max(dayta)/INT16_MAX)\n",
    "    line.set_ydata(dayta[:,0]/INT16_MAX)\n",
    "    line2.set_ydata(dayta[:,1]/INT16_MAX)\n",
    "    \n",
    "    ex = np.fft.rfft(dayta[:,0])\n",
    "    freqs = np.fft.fftfreq(ex.size)\n",
    "    line3.set_data([np.fft.fftshift(freqs)],[10*np.log10(np.maximum(np.abs(ex), 1e-10))])\n",
    "    \n",
    "    f,t,Sxx = sig.spectrogram(dayta[:,0], fs=rate, window=\"hann\",\n",
    "                              nperseg=NPERSEG)\n",
    "    y.set_array(10*np.log10(Sxx).ravel())\n",
    "    \n",
    "    fig.canvas.draw()\n",
    "    fig.canvas.flush_events()\n",
    "\n"
   ]
  },
  {
   "cell_type": "code",
   "execution_count": null,
   "metadata": {},
   "outputs": [],
   "source": []
  },
  {
   "cell_type": "code",
   "execution_count": null,
   "metadata": {},
   "outputs": [],
   "source": []
  },
  {
   "cell_type": "code",
   "execution_count": null,
   "metadata": {},
   "outputs": [],
   "source": []
  }
 ],
 "metadata": {
  "kernelspec": {
   "display_name": "Python 3",
   "language": "python",
   "name": "python3"
  },
  "language_info": {
   "codemirror_mode": {
    "name": "ipython",
    "version": 3
   },
   "file_extension": ".py",
   "mimetype": "text/x-python",
   "name": "python",
   "nbconvert_exporter": "python",
   "pygments_lexer": "ipython3",
   "version": "3.7.3"
  }
 },
 "nbformat": 4,
 "nbformat_minor": 2
}
